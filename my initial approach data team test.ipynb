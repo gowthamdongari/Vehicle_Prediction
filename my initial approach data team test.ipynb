{
 "cells": [
  {
   "cell_type": "markdown",
   "metadata": {},
   "source": [
    "# importing all future modules \n",
    "- To avoid incompitablity problems we import the future modules below\n"
   ]
  },
  {
   "cell_type": "code",
   "execution_count": 1,
   "metadata": {
    "collapsed": true
   },
   "outputs": [],
   "source": [
    "from __future__ import absolute_import\n",
    "from __future__ import division\n",
    "from __future__ import print_function\n",
    "from __future__ import unicode_literals\n",
    "\n",
    "\n",
    "from sklearn.ensemble import RandomForestClassifier\n",
    "from sklearn.metrics import make_scorer, accuracy_score\n",
    "from sklearn.model_selection import GridSearchCV\n",
    "\n",
    "from sklearn.model_selection import train_test_split"
   ]
  },
  {
   "cell_type": "markdown",
   "metadata": {},
   "source": [
    "\n",
    "- importing all the required modules"
   ]
  },
  {
   "cell_type": "code",
   "execution_count": 1,
   "metadata": {
    "collapsed": true
   },
   "outputs": [],
   "source": [
    "import time  \n",
    "import numpy as np\n",
    "import pandas as pd\n",
    "%matplotlib inline\n",
    "import seaborn as sns\n",
    "import matplotlib\n",
    "from matplotlib import pyplot as plt\n"
   ]
  },
  {
   "cell_type": "code",
   "execution_count": 2,
   "metadata": {
    "collapsed": true
   },
   "outputs": [],
   "source": [
    "def run_time(method):\n",
    "    \n",
    "    '''defined a function run_time\n",
    "    for finding the time taken to \n",
    "    execute the function'''\n",
    "    \n",
    "    def timed(*args, **kw):\n",
    "        ts = time.time()\n",
    "        result = method(*args, **kw)\n",
    "        te = time.time()\n",
    "        if 'log_time' in kw:\n",
    "            name = kw.get('log_name', method.__name__.upper())\n",
    "            kw['log_time'][name] = int((te - ts) * 1000)\n",
    "        else:\n",
    "            print('%r  %2.2f ms' % \\\n",
    "                  (method.__name__, (te - ts) * 1000))\n",
    "        return result\n",
    "    return timed\n"
   ]
  },
  {
   "cell_type": "code",
   "execution_count": 50,
   "metadata": {},
   "outputs": [
    {
     "data": {
      "text/html": [
       "<div>\n",
       "<style>\n",
       "    .dataframe thead tr:only-child th {\n",
       "        text-align: right;\n",
       "    }\n",
       "\n",
       "    .dataframe thead th {\n",
       "        text-align: left;\n",
       "    }\n",
       "\n",
       "    .dataframe tbody tr th {\n",
       "        vertical-align: top;\n",
       "    }\n",
       "</style>\n",
       "<table border=\"1\" class=\"dataframe\">\n",
       "  <thead>\n",
       "    <tr style=\"text-align: right;\">\n",
       "      <th></th>\n",
       "      <th>time</th>\n",
       "      <th>amp_read</th>\n",
       "      <th>vehicle</th>\n",
       "    </tr>\n",
       "  </thead>\n",
       "  <tbody>\n",
       "    <tr>\n",
       "      <th>0</th>\n",
       "      <td>1</td>\n",
       "      <td>0.00</td>\n",
       "      <td>-</td>\n",
       "    </tr>\n",
       "    <tr>\n",
       "      <th>1</th>\n",
       "      <td>2</td>\n",
       "      <td>-0.05</td>\n",
       "      <td>-</td>\n",
       "    </tr>\n",
       "    <tr>\n",
       "      <th>2</th>\n",
       "      <td>3</td>\n",
       "      <td>0.10</td>\n",
       "      <td>-</td>\n",
       "    </tr>\n",
       "    <tr>\n",
       "      <th>3</th>\n",
       "      <td>4</td>\n",
       "      <td>0.50</td>\n",
       "      <td>Motorbike</td>\n",
       "    </tr>\n",
       "    <tr>\n",
       "      <th>4</th>\n",
       "      <td>5</td>\n",
       "      <td>0.40</td>\n",
       "      <td>Motorbike</td>\n",
       "    </tr>\n",
       "  </tbody>\n",
       "</table>\n",
       "</div>"
      ],
      "text/plain": [
       "   time  amp_read    vehicle\n",
       "0     1      0.00          -\n",
       "1     2     -0.05          -\n",
       "2     3      0.10          -\n",
       "3     4      0.50  Motorbike\n",
       "4     5      0.40  Motorbike"
      ]
     },
     "execution_count": 50,
     "metadata": {},
     "output_type": "execute_result"
    }
   ],
   "source": [
    "df = pd.read_csv('vehicles_passed.csv')\n",
    "df.head()"
   ]
  },
  {
   "cell_type": "code",
   "execution_count": 11,
   "metadata": {},
   "outputs": [
    {
     "name": "stdout",
     "output_type": "stream",
     "text": [
      "<class 'pandas.core.frame.DataFrame'>\n",
      "RangeIndex: 306 entries, 0 to 305\n",
      "Data columns (total 3 columns):\n",
      "time        306 non-null int64\n",
      "amp_read    306 non-null float64\n",
      "vehicle     306 non-null object\n",
      "dtypes: float64(1), int64(1), object(1)\n",
      "memory usage: 7.2+ KB\n"
     ]
    }
   ],
   "source": [
    "df.info()"
   ]
  },
  {
   "cell_type": "code",
   "execution_count": 12,
   "metadata": {
    "scrolled": true
   },
   "outputs": [
    {
     "data": {
      "text/html": [
       "<div>\n",
       "<style>\n",
       "    .dataframe thead tr:only-child th {\n",
       "        text-align: right;\n",
       "    }\n",
       "\n",
       "    .dataframe thead th {\n",
       "        text-align: left;\n",
       "    }\n",
       "\n",
       "    .dataframe tbody tr th {\n",
       "        vertical-align: top;\n",
       "    }\n",
       "</style>\n",
       "<table border=\"1\" class=\"dataframe\">\n",
       "  <thead>\n",
       "    <tr style=\"text-align: right;\">\n",
       "      <th></th>\n",
       "      <th>count</th>\n",
       "      <th>mean</th>\n",
       "      <th>std</th>\n",
       "      <th>min</th>\n",
       "      <th>25%</th>\n",
       "      <th>50%</th>\n",
       "      <th>75%</th>\n",
       "      <th>max</th>\n",
       "    </tr>\n",
       "  </thead>\n",
       "  <tbody>\n",
       "    <tr>\n",
       "      <th>time</th>\n",
       "      <td>306.0</td>\n",
       "      <td>153.500000</td>\n",
       "      <td>88.478811</td>\n",
       "      <td>1.00</td>\n",
       "      <td>77.25</td>\n",
       "      <td>153.5</td>\n",
       "      <td>229.75</td>\n",
       "      <td>306.00</td>\n",
       "    </tr>\n",
       "    <tr>\n",
       "      <th>amp_read</th>\n",
       "      <td>306.0</td>\n",
       "      <td>1.355882</td>\n",
       "      <td>1.905291</td>\n",
       "      <td>-0.09</td>\n",
       "      <td>0.00</td>\n",
       "      <td>0.4</td>\n",
       "      <td>1.55</td>\n",
       "      <td>5.66</td>\n",
       "    </tr>\n",
       "  </tbody>\n",
       "</table>\n",
       "</div>"
      ],
      "text/plain": [
       "          count        mean        std   min    25%    50%     75%     max\n",
       "time      306.0  153.500000  88.478811  1.00  77.25  153.5  229.75  306.00\n",
       "amp_read  306.0    1.355882   1.905291 -0.09   0.00    0.4    1.55    5.66"
      ]
     },
     "execution_count": 12,
     "metadata": {},
     "output_type": "execute_result"
    }
   ],
   "source": [
    "df.describe().T"
   ]
  },
  {
   "cell_type": "code",
   "execution_count": 13,
   "metadata": {},
   "outputs": [
    {
     "data": {
      "text/plain": [
       "144"
      ]
     },
     "execution_count": 13,
     "metadata": {},
     "output_type": "execute_result"
    }
   ],
   "source": [
    "\n",
    "sum(df['vehicle']=='-')"
   ]
  },
  {
   "cell_type": "code",
   "execution_count": 16,
   "metadata": {},
   "outputs": [
    {
     "data": {
      "text/plain": [
       "<matplotlib.axes._subplots.AxesSubplot at 0x7f66375ca550>"
      ]
     },
     "execution_count": 16,
     "metadata": {},
     "output_type": "execute_result"
    },
    {
     "data": {
      "image/png": "[encoded data removed]",
      "text/plain": [
       "<matplotlib.figure.Figure at 0x7f66375ca790>"
      ]
     },
     "metadata": {},
     "output_type": "display_data"
    }
   ],
   "source": [
    "# plot the data to check the distribution\n",
    "df['amp_read'].hist(bins=20)"
   ]
  },
  {
   "cell_type": "code",
   "execution_count": 17,
   "metadata": {},
   "outputs": [
    {
     "data": {
      "text/plain": [
       "<matplotlib.axes._subplots.AxesSubplot at 0x7f6635410390>"
      ]
     },
     "execution_count": 17,
     "metadata": {},
     "output_type": "execute_result"
    },
    {
     "data": {
      "image/png": "[encoded data removed]",
      "text/plain": [
       "<matplotlib.figure.Figure at 0x7f66375ca3d0>"
      ]
     },
     "metadata": {},
     "output_type": "display_data"
    }
   ],
   "source": [
    "# plot the data to check the distribution\n",
    "df.groupby('vehicle').size().plot(kind='bar')"
   ]
  },
  {
   "cell_type": "code",
   "execution_count": 18,
   "metadata": {},
   "outputs": [
    {
     "data": {
      "text/plain": [
       "<matplotlib.axes._subplots.AxesSubplot at 0x7f66353d0490>"
      ]
     },
     "execution_count": 18,
     "metadata": {},
     "output_type": "execute_result"
    },
    {
     "data": {
      "image/png": "[encoded data removed]",
      "text/plain": [
       "<matplotlib.figure.Figure at 0x7f663535fe10>"
      ]
     },
     "metadata": {},
     "output_type": "display_data"
    }
   ],
   "source": [
    "df.boxplot(column='amp_read')"
   ]
  },
  {
   "cell_type": "code",
   "execution_count": 54,
   "metadata": {
    "collapsed": true
   },
   "outputs": [],
   "source": [
    "#creating polynomial features\n",
    "\n",
    "df['amp_square'] = df['amp_read']**2\n",
    "df['amp_cube'] = df['amp_read']**3\n",
    "df['amp_sqrt'] = df['amp_read']*0.5\n",
    "\n",
    "\n",
    "#\n",
    "df.amp_square = df.amp_square.round(3)\n",
    "df.amp_cube = df.amp_cube.round(3)"
   ]
  },
  {
   "cell_type": "code",
   "execution_count": 55,
   "metadata": {
    "collapsed": true
   },
   "outputs": [],
   "source": [
    "s = df['amp_read']\n",
    "\n",
    "\n",
    "indices = pd.Series(range(df['amp_read'].shape[0]))\n",
    "\n",
    "\n",
    "df['amp_avg'] = indices[2:].apply(lambda x: (s[x]+s[x-1]+s[x-2]) / 3 )\n",
    "\n",
    "#considering only 3 decimal values\n",
    "df.amp_avg = df.amp_avg.round(3)\n",
    "\n",
    "# as the first 2 variables will be zero we replace with zero\n",
    "df.amp_avg.replace(np.NaN, 0, inplace=True)\n",
    "\n",
    "df['deviation'] = df['amp_avg'] * df['amp_read']\n",
    "\n",
    "df.deviation = df.deviation.round(3)\n",
    "\n",
    "df.deviation.replace(np.NaN, 0, inplace=True)"
   ]
  },
  {
   "cell_type": "code",
   "execution_count": 56,
   "metadata": {},
   "outputs": [
    {
     "data": {
      "text/html": [
       "<div>\n",
       "<style>\n",
       "    .dataframe thead tr:only-child th {\n",
       "        text-align: right;\n",
       "    }\n",
       "\n",
       "    .dataframe thead th {\n",
       "        text-align: left;\n",
       "    }\n",
       "\n",
       "    .dataframe tbody tr th {\n",
       "        vertical-align: top;\n",
       "    }\n",
       "</style>\n",
       "<table border=\"1\" class=\"dataframe\">\n",
       "  <thead>\n",
       "    <tr style=\"text-align: right;\">\n",
       "      <th></th>\n",
       "      <th>time</th>\n",
       "      <th>amp_read</th>\n",
       "      <th>vehicle</th>\n",
       "      <th>amp_square</th>\n",
       "      <th>amp_cube</th>\n",
       "      <th>amp_sqrt</th>\n",
       "      <th>amp_avg</th>\n",
       "      <th>deviation</th>\n",
       "    </tr>\n",
       "  </thead>\n",
       "  <tbody>\n",
       "    <tr>\n",
       "      <th>0</th>\n",
       "      <td>1</td>\n",
       "      <td>0.00</td>\n",
       "      <td>-</td>\n",
       "      <td>0.000</td>\n",
       "      <td>0.000</td>\n",
       "      <td>0.000</td>\n",
       "      <td>0.000</td>\n",
       "      <td>0.000</td>\n",
       "    </tr>\n",
       "    <tr>\n",
       "      <th>1</th>\n",
       "      <td>2</td>\n",
       "      <td>-0.05</td>\n",
       "      <td>-</td>\n",
       "      <td>0.003</td>\n",
       "      <td>-0.000</td>\n",
       "      <td>-0.025</td>\n",
       "      <td>0.000</td>\n",
       "      <td>-0.000</td>\n",
       "    </tr>\n",
       "    <tr>\n",
       "      <th>2</th>\n",
       "      <td>3</td>\n",
       "      <td>0.10</td>\n",
       "      <td>-</td>\n",
       "      <td>0.010</td>\n",
       "      <td>0.001</td>\n",
       "      <td>0.050</td>\n",
       "      <td>0.017</td>\n",
       "      <td>0.002</td>\n",
       "    </tr>\n",
       "    <tr>\n",
       "      <th>3</th>\n",
       "      <td>4</td>\n",
       "      <td>0.50</td>\n",
       "      <td>Motorbike</td>\n",
       "      <td>0.250</td>\n",
       "      <td>0.125</td>\n",
       "      <td>0.250</td>\n",
       "      <td>0.183</td>\n",
       "      <td>0.092</td>\n",
       "    </tr>\n",
       "    <tr>\n",
       "      <th>4</th>\n",
       "      <td>5</td>\n",
       "      <td>0.40</td>\n",
       "      <td>Motorbike</td>\n",
       "      <td>0.160</td>\n",
       "      <td>0.064</td>\n",
       "      <td>0.200</td>\n",
       "      <td>0.333</td>\n",
       "      <td>0.133</td>\n",
       "    </tr>\n",
       "    <tr>\n",
       "      <th>5</th>\n",
       "      <td>6</td>\n",
       "      <td>0.00</td>\n",
       "      <td>-</td>\n",
       "      <td>0.000</td>\n",
       "      <td>0.000</td>\n",
       "      <td>0.000</td>\n",
       "      <td>0.300</td>\n",
       "      <td>0.000</td>\n",
       "    </tr>\n",
       "    <tr>\n",
       "      <th>6</th>\n",
       "      <td>7</td>\n",
       "      <td>1.50</td>\n",
       "      <td>Bus</td>\n",
       "      <td>2.250</td>\n",
       "      <td>3.375</td>\n",
       "      <td>0.750</td>\n",
       "      <td>0.633</td>\n",
       "      <td>0.950</td>\n",
       "    </tr>\n",
       "    <tr>\n",
       "      <th>7</th>\n",
       "      <td>8</td>\n",
       "      <td>1.55</td>\n",
       "      <td>Bus</td>\n",
       "      <td>2.403</td>\n",
       "      <td>3.724</td>\n",
       "      <td>0.775</td>\n",
       "      <td>1.017</td>\n",
       "      <td>1.576</td>\n",
       "    </tr>\n",
       "    <tr>\n",
       "      <th>8</th>\n",
       "      <td>9</td>\n",
       "      <td>1.29</td>\n",
       "      <td>Bus</td>\n",
       "      <td>1.664</td>\n",
       "      <td>2.147</td>\n",
       "      <td>0.645</td>\n",
       "      <td>1.447</td>\n",
       "      <td>1.867</td>\n",
       "    </tr>\n",
       "    <tr>\n",
       "      <th>9</th>\n",
       "      <td>10</td>\n",
       "      <td>1.62</td>\n",
       "      <td>Bus</td>\n",
       "      <td>2.624</td>\n",
       "      <td>4.252</td>\n",
       "      <td>0.810</td>\n",
       "      <td>1.487</td>\n",
       "      <td>2.409</td>\n",
       "    </tr>\n",
       "    <tr>\n",
       "      <th>10</th>\n",
       "      <td>11</td>\n",
       "      <td>-0.09</td>\n",
       "      <td>-</td>\n",
       "      <td>0.008</td>\n",
       "      <td>-0.001</td>\n",
       "      <td>-0.045</td>\n",
       "      <td>0.940</td>\n",
       "      <td>-0.085</td>\n",
       "    </tr>\n",
       "    <tr>\n",
       "      <th>11</th>\n",
       "      <td>12</td>\n",
       "      <td>-0.01</td>\n",
       "      <td>-</td>\n",
       "      <td>0.000</td>\n",
       "      <td>-0.000</td>\n",
       "      <td>-0.005</td>\n",
       "      <td>0.507</td>\n",
       "      <td>-0.005</td>\n",
       "    </tr>\n",
       "    <tr>\n",
       "      <th>12</th>\n",
       "      <td>13</td>\n",
       "      <td>5.50</td>\n",
       "      <td>Car</td>\n",
       "      <td>30.250</td>\n",
       "      <td>166.375</td>\n",
       "      <td>2.750</td>\n",
       "      <td>1.800</td>\n",
       "      <td>9.900</td>\n",
       "    </tr>\n",
       "    <tr>\n",
       "      <th>13</th>\n",
       "      <td>14</td>\n",
       "      <td>5.66</td>\n",
       "      <td>Car</td>\n",
       "      <td>32.036</td>\n",
       "      <td>181.321</td>\n",
       "      <td>2.830</td>\n",
       "      <td>3.717</td>\n",
       "      <td>21.038</td>\n",
       "    </tr>\n",
       "    <tr>\n",
       "      <th>14</th>\n",
       "      <td>15</td>\n",
       "      <td>4.58</td>\n",
       "      <td>Car</td>\n",
       "      <td>20.976</td>\n",
       "      <td>96.072</td>\n",
       "      <td>2.290</td>\n",
       "      <td>5.247</td>\n",
       "      <td>24.031</td>\n",
       "    </tr>\n",
       "    <tr>\n",
       "      <th>15</th>\n",
       "      <td>16</td>\n",
       "      <td>0.30</td>\n",
       "      <td>-</td>\n",
       "      <td>0.090</td>\n",
       "      <td>0.027</td>\n",
       "      <td>0.150</td>\n",
       "      <td>3.513</td>\n",
       "      <td>1.054</td>\n",
       "    </tr>\n",
       "    <tr>\n",
       "      <th>16</th>\n",
       "      <td>17</td>\n",
       "      <td>0.20</td>\n",
       "      <td>-</td>\n",
       "      <td>0.040</td>\n",
       "      <td>0.008</td>\n",
       "      <td>0.100</td>\n",
       "      <td>1.693</td>\n",
       "      <td>0.339</td>\n",
       "    </tr>\n",
       "    <tr>\n",
       "      <th>17</th>\n",
       "      <td>18</td>\n",
       "      <td>0.00</td>\n",
       "      <td>-</td>\n",
       "      <td>0.000</td>\n",
       "      <td>0.000</td>\n",
       "      <td>0.000</td>\n",
       "      <td>0.167</td>\n",
       "      <td>0.000</td>\n",
       "    </tr>\n",
       "    <tr>\n",
       "      <th>18</th>\n",
       "      <td>19</td>\n",
       "      <td>-0.05</td>\n",
       "      <td>-</td>\n",
       "      <td>0.003</td>\n",
       "      <td>-0.000</td>\n",
       "      <td>-0.025</td>\n",
       "      <td>0.050</td>\n",
       "      <td>-0.003</td>\n",
       "    </tr>\n",
       "    <tr>\n",
       "      <th>19</th>\n",
       "      <td>20</td>\n",
       "      <td>0.10</td>\n",
       "      <td>-</td>\n",
       "      <td>0.010</td>\n",
       "      <td>0.001</td>\n",
       "      <td>0.050</td>\n",
       "      <td>0.017</td>\n",
       "      <td>0.002</td>\n",
       "    </tr>\n",
       "  </tbody>\n",
       "</table>\n",
       "</div>"
      ],
      "text/plain": [
       "    time  amp_read    vehicle  amp_square  amp_cube  amp_sqrt  amp_avg  \\\n",
       "0      1      0.00          -       0.000     0.000     0.000    0.000   \n",
       "1      2     -0.05          -       0.003    -0.000    -0.025    0.000   \n",
       "2      3      0.10          -       0.010     0.001     0.050    0.017   \n",
       "3      4      0.50  Motorbike       0.250     0.125     0.250    0.183   \n",
       "4      5      0.40  Motorbike       0.160     0.064     0.200    0.333   \n",
       "5      6      0.00          -       0.000     0.000     0.000    0.300   \n",
       "6      7      1.50        Bus       2.250     3.375     0.750    0.633   \n",
       "7      8      1.55        Bus       2.403     3.724     0.775    1.017   \n",
       "8      9      1.29        Bus       1.664     2.147     0.645    1.447   \n",
       "9     10      1.62        Bus       2.624     4.252     0.810    1.487   \n",
       "10    11     -0.09          -       0.008    -0.001    -0.045    0.940   \n",
       "11    12     -0.01          -       0.000    -0.000    -0.005    0.507   \n",
       "12    13      5.50        Car      30.250   166.375     2.750    1.800   \n",
       "13    14      5.66        Car      32.036   181.321     2.830    3.717   \n",
       "14    15      4.58        Car      20.976    96.072     2.290    5.247   \n",
       "15    16      0.30          -       0.090     0.027     0.150    3.513   \n",
       "16    17      0.20          -       0.040     0.008     0.100    1.693   \n",
       "17    18      0.00          -       0.000     0.000     0.000    0.167   \n",
       "18    19     -0.05          -       0.003    -0.000    -0.025    0.050   \n",
       "19    20      0.10          -       0.010     0.001     0.050    0.017   \n",
       "\n",
       "    deviation  \n",
       "0       0.000  \n",
       "1      -0.000  \n",
       "2       0.002  \n",
       "3       0.092  \n",
       "4       0.133  \n",
       "5       0.000  \n",
       "6       0.950  \n",
       "7       1.576  \n",
       "8       1.867  \n",
       "9       2.409  \n",
       "10     -0.085  \n",
       "11     -0.005  \n",
       "12      9.900  \n",
       "13     21.038  \n",
       "14     24.031  \n",
       "15      1.054  \n",
       "16      0.339  \n",
       "17      0.000  \n",
       "18     -0.003  \n",
       "19      0.002  "
      ]
     },
     "execution_count": 56,
     "metadata": {},
     "output_type": "execute_result"
    }
   ],
   "source": [
    "df.head(20)"
   ]
  },
  {
   "cell_type": "code",
   "execution_count": 57,
   "metadata": {},
   "outputs": [
    {
     "data": {
      "text/plain": [
       "<matplotlib.axes._subplots.AxesSubplot at 0x7f66349db3d0>"
      ]
     },
     "execution_count": 57,
     "metadata": {},
     "output_type": "execute_result"
    },
    {
     "data": {
      "image/png": "[encoded data removed]",
      "text/plain": [
       "<matplotlib.figure.Figure at 0x7f6634be2ad0>"
      ]
     },
     "metadata": {},
     "output_type": "display_data"
    }
   ],
   "source": [
    "df['amp_square'].hist(bins=20)"
   ]
  },
  {
   "cell_type": "code",
   "execution_count": 23,
   "metadata": {},
   "outputs": [
    {
     "data": {
      "text/plain": [
       "<matplotlib.axes._subplots.AxesSubplot at 0x7f6635114b10>"
      ]
     },
     "execution_count": 23,
     "metadata": {},
     "output_type": "execute_result"
    },
    {
     "data": {
      "image/png": "[encoded data removed]",
      "text/plain": [
       "<matplotlib.figure.Figure at 0x7f666c23b110>"
      ]
     },
     "metadata": {},
     "output_type": "display_data"
    }
   ],
   "source": [
    "df['amp_cube'].hist(bins=5)"
   ]
  },
  {
   "cell_type": "code",
   "execution_count": 24,
   "metadata": {},
   "outputs": [
    {
     "data": {
      "text/plain": [
       "<matplotlib.axes._subplots.AxesSubplot at 0x7f663505c6d0>"
      ]
     },
     "execution_count": 24,
     "metadata": {},
     "output_type": "execute_result"
    },
    {
     "data": {
      "image/png": "[encoded data removed]",
      "text/plain": [
       "<matplotlib.figure.Figure at 0x7f66352cbf50>"
      ]
     },
     "metadata": {},
     "output_type": "display_data"
    }
   ],
   "source": [
    "df['amp_sqrt'].hist(bins=20)"
   ]
  },
  {
   "cell_type": "code",
   "execution_count": 25,
   "metadata": {},
   "outputs": [
    {
     "data": {
      "text/plain": [
       "<matplotlib.axes._subplots.AxesSubplot at 0x7f66350bbf10>"
      ]
     },
     "execution_count": 25,
     "metadata": {},
     "output_type": "execute_result"
    },
    {
     "data": {
      "image/png": "[encoded data removed]",
      "text/plain": [
       "<matplotlib.figure.Figure at 0x7f6634f96850>"
      ]
     },
     "metadata": {},
     "output_type": "display_data"
    }
   ],
   "source": [
    "df['deviation'].hist(bins=20)"
   ]
  },
  {
   "cell_type": "code",
   "execution_count": 26,
   "metadata": {},
   "outputs": [
    {
     "data": {
      "text/plain": [
       "<matplotlib.axes._subplots.AxesSubplot at 0x7f6634e6ed10>"
      ]
     },
     "execution_count": 26,
     "metadata": {},
     "output_type": "execute_result"
    },
    {
     "data": {
      "image/png": "[encoded data removed]",
      "text/plain": [
       "<matplotlib.figure.Figure at 0x7f66354106d0>"
      ]
     },
     "metadata": {},
     "output_type": "display_data"
    }
   ],
   "source": [
    "df.boxplot(column='amp_square')"
   ]
  },
  {
   "cell_type": "code",
   "execution_count": 27,
   "metadata": {
    "collapsed": true
   },
   "outputs": [],
   "source": [
    "# df.boxplot(column='amp_cube')"
   ]
  },
  {
   "cell_type": "code",
   "execution_count": 28,
   "metadata": {},
   "outputs": [
    {
     "data": {
      "text/plain": [
       "<matplotlib.axes._subplots.AxesSubplot at 0x7f6634d87c90>"
      ]
     },
     "execution_count": 28,
     "metadata": {},
     "output_type": "execute_result"
    },
    {
     "data": {
      "image/png": "[encoded data removed]",
      "text/plain": [
       "<matplotlib.figure.Figure at 0x7f6634d1d750>"
      ]
     },
     "metadata": {},
     "output_type": "display_data"
    }
   ],
   "source": [
    "df.boxplot(column='amp_sqrt')"
   ]
  },
  {
   "cell_type": "code",
   "execution_count": null,
   "metadata": {
    "collapsed": true
   },
   "outputs": [],
   "source": []
  },
  {
   "cell_type": "code",
   "execution_count": 71,
   "metadata": {
    "collapsed": true
   },
   "outputs": [],
   "source": [
    "X = df.loc[:,['time', 'amp_read', 'amp_square', 'amp_cube', 'amp_sqrt', 'amp_avg', 'deviation']]\n",
    "y = df.vehicle"
   ]
  },
  {
   "cell_type": "code",
   "execution_count": 72,
   "metadata": {
    "collapsed": true
   },
   "outputs": [],
   "source": [
    "X_train, X_test, y_train, y_test = train_test_split(X, y, test_size=0.2, random_state=10)"
   ]
  },
  {
   "cell_type": "code",
   "execution_count": 73,
   "metadata": {},
   "outputs": [
    {
     "data": {
      "text/plain": [
       "RandomForestClassifier(bootstrap=True, class_weight=None, criterion='gini',\n",
       "            max_depth=None, max_features='auto', max_leaf_nodes=None,\n",
       "            min_impurity_split=1e-07, min_samples_leaf=1,\n",
       "            min_samples_split=2, min_weight_fraction_leaf=0.0,\n",
       "            n_estimators=10, n_jobs=1, oob_score=True, random_state=0,\n",
       "            verbose=0, warm_start=False)"
      ]
     },
     "execution_count": 73,
     "metadata": {},
     "output_type": "execute_result"
    }
   ],
   "source": [
    "clf = RandomForestClassifier(oob_score=True, random_state=0)\n",
    "clf.fit(X_train, y_train)"
   ]
  },
  {
   "cell_type": "code",
   "execution_count": 74,
   "metadata": {
    "collapsed": true
   },
   "outputs": [],
   "source": [
    "def gridfunc(classifier, parameter, X_t, Y_t):\n",
    "    \n",
    "    \n",
    "    clf = classifier\n",
    "    \n",
    "    parameters = parameter\n",
    "    acc_scorer = make_scorer(accuracy_score)\n",
    "    \n",
    "    # Run the grid search\n",
    "    grid_obj = GridSearchCV(clf, parameters, scoring=acc_scorer)\n",
    "    grid_obj = grid_obj.fit(X_train, y_train)\n",
    "    \n",
    "    return grid_obj\n"
   ]
  },
  {
   "cell_type": "code",
   "execution_count": 75,
   "metadata": {
    "collapsed": true
   },
   "outputs": [],
   "source": [
    "classifier = RandomForestClassifier(oob_score=True, random_state=0)\n",
    "# parameter = {}\n",
    "\n",
    "parameter = {'n_estimators': [1, 2], \n",
    "              'max_features': ['log2'], \n",
    "              'criterion': ['gini'],\n",
    "              'max_depth': [4, 5], \n",
    "              'min_samples_split': [5, 30],\n",
    "              'min_samples_leaf': [1]\n",
    "             }\n"
   ]
  },
  {
   "cell_type": "code",
   "execution_count": 76,
   "metadata": {},
   "outputs": [
    {
     "data": {
      "text/plain": [
       "{'mean_fit_time': array([ 0.00581789,  0.00691938,  0.00388575,  0.00594966,  0.00351938,\n",
       "         0.00578237,  0.00373197,  0.00593559]),\n",
       " 'mean_score_time': array([ 0.0019478 ,  0.00155099,  0.00102091,  0.00144593,  0.0009466 ,\n",
       "         0.00143695,  0.00104872,  0.00147875]),\n",
       " 'mean_test_score': array([ 1.,  1.,  1.,  1.,  1.,  1.,  1.,  1.]),\n",
       " 'mean_train_score': array([ 1.,  1.,  1.,  1.,  1.,  1.,  1.,  1.]),\n",
       " u'param_criterion': masked_array(data = [u'gini' u'gini' u'gini' u'gini' u'gini' u'gini' u'gini' u'gini'],\n",
       "              mask = [False False False False False False False False],\n",
       "        fill_value = ?),\n",
       " u'param_max_depth': masked_array(data = [4 4 4 4 5 5 5 5],\n",
       "              mask = [False False False False False False False False],\n",
       "        fill_value = ?),\n",
       " u'param_max_features': masked_array(data = [u'log2' u'log2' u'log2' u'log2' u'log2' u'log2' u'log2' u'log2'],\n",
       "              mask = [False False False False False False False False],\n",
       "        fill_value = ?),\n",
       " u'param_min_samples_leaf': masked_array(data = [1 1 1 1 1 1 1 1],\n",
       "              mask = [False False False False False False False False],\n",
       "        fill_value = ?),\n",
       " u'param_min_samples_split': masked_array(data = [5 5 30 30 5 5 30 30],\n",
       "              mask = [False False False False False False False False],\n",
       "        fill_value = ?),\n",
       " u'param_n_estimators': masked_array(data = [1 2 1 2 1 2 1 2],\n",
       "              mask = [False False False False False False False False],\n",
       "        fill_value = ?),\n",
       " 'params': ({u'criterion': u'gini',\n",
       "   u'max_depth': 4,\n",
       "   u'max_features': u'log2',\n",
       "   u'min_samples_leaf': 1,\n",
       "   u'min_samples_split': 5,\n",
       "   u'n_estimators': 1},\n",
       "  {u'criterion': u'gini',\n",
       "   u'max_depth': 4,\n",
       "   u'max_features': u'log2',\n",
       "   u'min_samples_leaf': 1,\n",
       "   u'min_samples_split': 5,\n",
       "   u'n_estimators': 2},\n",
       "  {u'criterion': u'gini',\n",
       "   u'max_depth': 4,\n",
       "   u'max_features': u'log2',\n",
       "   u'min_samples_leaf': 1,\n",
       "   u'min_samples_split': 30,\n",
       "   u'n_estimators': 1},\n",
       "  {u'criterion': u'gini',\n",
       "   u'max_depth': 4,\n",
       "   u'max_features': u'log2',\n",
       "   u'min_samples_leaf': 1,\n",
       "   u'min_samples_split': 30,\n",
       "   u'n_estimators': 2},\n",
       "  {u'criterion': u'gini',\n",
       "   u'max_depth': 5,\n",
       "   u'max_features': u'log2',\n",
       "   u'min_samples_leaf': 1,\n",
       "   u'min_samples_split': 5,\n",
       "   u'n_estimators': 1},\n",
       "  {u'criterion': u'gini',\n",
       "   u'max_depth': 5,\n",
       "   u'max_features': u'log2',\n",
       "   u'min_samples_leaf': 1,\n",
       "   u'min_samples_split': 5,\n",
       "   u'n_estimators': 2},\n",
       "  {u'criterion': u'gini',\n",
       "   u'max_depth': 5,\n",
       "   u'max_features': u'log2',\n",
       "   u'min_samples_leaf': 1,\n",
       "   u'min_samples_split': 30,\n",
       "   u'n_estimators': 1},\n",
       "  {u'criterion': u'gini',\n",
       "   u'max_depth': 5,\n",
       "   u'max_features': u'log2',\n",
       "   u'min_samples_leaf': 1,\n",
       "   u'min_samples_split': 30,\n",
       "   u'n_estimators': 2}),\n",
       " 'rank_test_score': array([1, 1, 1, 1, 1, 1, 1, 1], dtype=int32),\n",
       " 'split0_test_score': array([ 1.,  1.,  1.,  1.,  1.,  1.,  1.,  1.]),\n",
       " 'split0_train_score': array([ 1.,  1.,  1.,  1.,  1.,  1.,  1.,  1.]),\n",
       " 'split1_test_score': array([ 1.,  1.,  1.,  1.,  1.,  1.,  1.,  1.]),\n",
       " 'split1_train_score': array([ 1.,  1.,  1.,  1.,  1.,  1.,  1.,  1.]),\n",
       " 'split2_test_score': array([ 1.,  1.,  1.,  1.,  1.,  1.,  1.,  1.]),\n",
       " 'split2_train_score': array([ 1.,  1.,  1.,  1.,  1.,  1.,  1.,  1.]),\n",
       " 'std_fit_time': array([  8.61702226e-04,   6.58888971e-04,   1.71415166e-04,\n",
       "          3.17507751e-05,   6.92083137e-05,   3.34777948e-05,\n",
       "          2.18497935e-04,   1.66385120e-05]),\n",
       " 'std_score_time': array([  1.02568320e-03,   9.86423717e-05,   1.79601630e-05,\n",
       "          2.40525893e-05,   2.70891726e-05,   2.34475915e-05,\n",
       "          6.79882767e-05,   1.38533755e-05]),\n",
       " 'std_test_score': array([ 0.,  0.,  0.,  0.,  0.,  0.,  0.,  0.]),\n",
       " 'std_train_score': array([ 0.,  0.,  0.,  0.,  0.,  0.,  0.,  0.])}"
      ]
     },
     "execution_count": 76,
     "metadata": {},
     "output_type": "execute_result"
    }
   ],
   "source": [
    "grid = gridfunc(classifier, parameter, X_train, y_train)\n",
    "\n",
    "grid.cv_results_"
   ]
  },
  {
   "cell_type": "code",
   "execution_count": 77,
   "metadata": {},
   "outputs": [
    {
     "data": {
      "text/plain": [
       "RandomForestClassifier(bootstrap=True, class_weight=None, criterion=u'gini',\n",
       "            max_depth=4, max_features=u'log2', max_leaf_nodes=None,\n",
       "            min_impurity_split=1e-07, min_samples_leaf=1,\n",
       "            min_samples_split=5, min_weight_fraction_leaf=0.0,\n",
       "            n_estimators=1, n_jobs=1, oob_score=True, random_state=0,\n",
       "            verbose=0, warm_start=False)"
      ]
     },
     "execution_count": 77,
     "metadata": {},
     "output_type": "execute_result"
    }
   ],
   "source": [
    "clf = grid.best_estimator_\n",
    "    \n",
    "    # Fit the best algorithm to the data. \n",
    "clf.fit(X, y)"
   ]
  },
  {
   "cell_type": "code",
   "execution_count": 78,
   "metadata": {},
   "outputs": [
    {
     "data": {
      "text/plain": [
       "array(['Bus', 'Bus', '-', 'Bus', '-', '-', 'Bus', '-', 'Bus', 'Bus', 'Bus',\n",
       "       '-', '-', 'Car', 'Motorbike', 'Bus', '-', '-', 'Bus', '-', '-',\n",
       "       'Bus', '-', 'Car', 'Bus', 'Bus', 'Car', 'Motorbike', '-', '-',\n",
       "       'Car', '-', 'Bus', 'Motorbike', 'Bus', 'Bus', 'Bus', '-',\n",
       "       'Motorbike', '-', '-', 'Motorbike', 'Bus', 'Bus', 'Car',\n",
       "       'Motorbike', '-', '-', 'Car', 'Motorbike', '-', '-', '-', '-', '-',\n",
       "       '-', 'Bus', 'Motorbike', '-', 'Bus', 'Car', '-'], dtype=object)"
      ]
     },
     "execution_count": 78,
     "metadata": {},
     "output_type": "execute_result"
    }
   ],
   "source": [
    "y_predict = clf.predict(X_test)\n",
    "y_predict"
   ]
  },
  {
   "cell_type": "code",
   "execution_count": 79,
   "metadata": {},
   "outputs": [
    {
     "data": {
      "text/plain": [
       "1.0"
      ]
     },
     "execution_count": 79,
     "metadata": {},
     "output_type": "execute_result"
    }
   ],
   "source": [
    "accuracy_score(y_test, y_predict)"
   ]
  },
  {
   "cell_type": "code",
   "execution_count": 67,
   "metadata": {
    "collapsed": true
   },
   "outputs": [],
   "source": [
    "#plot mean scores for a particular grid object\n",
    "def hp_cv_scores(grid_obj):\n",
    "    grid_obj.cv_results_\n",
    "    mean_test_scores = grid_obj.cv_results_['mean_test_score']\n",
    "    mean_train_scores = grid_obj.cv_results_['mean_train_score']\n",
    "    plt.figure(figsize=(10,6))\n",
    "    \n",
    "    param_values =[str(x) for x in grid_obj.param_grid.values()[0]]\n",
    "    x = np.arange(1, len(param_values)+1)\n",
    "    \n",
    "    plt.plot(x,mean_train_scores,c='r')\n",
    "    plt.xticks(x,param_values)\n",
    "    plt.plot(x,mean_test_scores,c='g')\n",
    "    plt.xlabel(grid_obj.param_grid.keys()[0])\n",
    "    plt.ylabel('mean scores')\n",
    "    plt.show()"
   ]
  },
  {
   "cell_type": "code",
   "execution_count": 68,
   "metadata": {},
   "outputs": [
    {
     "data": {
      "image/png": "[encoded data removed]",
      "text/plain": [
       "<matplotlib.figure.Figure at 0x7f6634b490d0>"
      ]
     },
     "metadata": {},
     "output_type": "display_data"
    }
   ],
   "source": [
    "grid = gridfunc(classifier,{'max_depth': [ 1, 2, 4, 5 , 6]} , X_train, y_train)\n",
    "\n",
    "hp_cv_scores(grid)"
   ]
  },
  {
   "cell_type": "code",
   "execution_count": 69,
   "metadata": {},
   "outputs": [
    {
     "data": {
      "image/png": "[encoded data removed]",
      "text/plain": [
       "<matplotlib.figure.Figure at 0x7f66345fb1d0>"
      ]
     },
     "metadata": {},
     "output_type": "display_data"
    }
   ],
   "source": [
    "grid = gridfunc(classifier,{'n_estimators': [1, 2, 4, 5 , 6 ]} , X_train, y_train)\n",
    "\n",
    "hp_cv_scores(grid)"
   ]
  },
  {
   "cell_type": "code",
   "execution_count": null,
   "metadata": {
    "collapsed": true
   },
   "outputs": [],
   "source": []
  },
  {
   "cell_type": "code",
   "execution_count": 70,
   "metadata": {},
   "outputs": [
    {
     "data": {
      "image/png": "[encoded data removed]",
      "text/plain": [
       "<matplotlib.figure.Figure at 0x7f6634964d10>"
      ]
     },
     "metadata": {},
     "output_type": "display_data"
    }
   ],
   "source": [
    "grid = gridfunc(classifier,{'min_samples_split': [ 2, 3]} , X_train, y_train)\n",
    "\n",
    "hp_cv_scores(grid)"
   ]
  },
  {
   "cell_type": "code",
   "execution_count": null,
   "metadata": {
    "collapsed": true
   },
   "outputs": [],
   "source": []
  },
  {
   "cell_type": "code",
   "execution_count": null,
   "metadata": {
    "collapsed": true
   },
   "outputs": [],
   "source": []
  }
 ],
 "metadata": {
  "kernelspec": {
   "display_name": "Python 2",
   "language": "python",
   "name": "python2"
  },
  "language_info": {
   "codemirror_mode": {
    "name": "ipython",
    "version": 2
   },
   "file_extension": ".py",
   "mimetype": "text/x-python",
   "name": "python",
   "nbconvert_exporter": "python",
   "pygments_lexer": "ipython2",
   "version": "2.7.13"
  }
 },
 "nbformat": 4,
 "nbformat_minor": 2
}

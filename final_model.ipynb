{
 "cells": [
  {
   "cell_type": "markdown",
   "metadata": {},
   "source": [
    "# Importing future models \n",
    "- To avoid incompitablity problems we import the four future modules below\n",
    "- importing all the other required packages"
   ]
  },
  {
   "cell_type": "code",
   "execution_count": 3,
   "metadata": {
    "collapsed": true
   },
   "outputs": [],
   "source": [
    "from __future__ import absolute_import\n",
    "from __future__ import division\n",
    "from __future__ import print_function\n",
    "from __future__ import unicode_literals\n",
    "\n",
    "import time  \n",
    "import numpy as np\n",
    "import pandas as pd\n",
    "%matplotlib inline\n",
    "import seaborn as sns\n",
    "import matplotlib, copy\n",
    "from matplotlib import pyplot as plt\n",
    "\n",
    "from sklearn.ensemble import RandomForestClassifier\n",
    "from sklearn.metrics import make_scorer, accuracy_score\n",
    "from sklearn.model_selection import GridSearchCV\n",
    "\n",
    "from sklearn.model_selection import train_test_split"
   ]
  },
  {
   "cell_type": "markdown",
   "metadata": {},
   "source": [
    "## To find out the time requried for running a model i created a function "
   ]
  },
  {
   "cell_type": "code",
   "execution_count": 4,
   "metadata": {
    "collapsed": true
   },
   "outputs": [],
   "source": [
    "def run_time(method):\n",
    "    \n",
    "    '''defined a function run_time\n",
    "    for finding the time taken to \n",
    "    execute the function'''\n",
    "    \n",
    "    def timed(*args, **kw):\n",
    "        ts = time.time()\n",
    "        result = method(*args, **kw)\n",
    "        te = time.time()\n",
    "        if 'log_time' in kw:\n",
    "            name = kw.get('log_name', method.__name__.upper())\n",
    "            kw['log_time'][name] = int((te - ts) * 1000)\n",
    "        else:\n",
    "            print('%r  %2.2f ms' % \\\n",
    "                  (method.__name__, (te - ts) * 1000))\n",
    "        return result\n",
    "    return timed\n"
   ]
  },
  {
   "cell_type": "markdown",
   "metadata": {},
   "source": [
    "# Understanding the problem and analysing\n",
    "- how many readings will a vehicle take to cross\n",
    "- 1st we build a simple solution \n",
    "- given the small sample the avg reading for each  vehicle is well differentiated \n",
    "- Create a dataframe for the values given for vehicle prediction\n"
   ]
  },
  {
   "cell_type": "code",
   "execution_count": 16,
   "metadata": {},
   "outputs": [
    {
     "data": {
      "text/html": [
       "<div>\n",
       "<style>\n",
       "    .dataframe thead tr:only-child th {\n",
       "        text-align: right;\n",
       "    }\n",
       "\n",
       "    .dataframe thead th {\n",
       "        text-align: left;\n",
       "    }\n",
       "\n",
       "    .dataframe tbody tr th {\n",
       "        vertical-align: top;\n",
       "    }\n",
       "</style>\n",
       "<table border=\"1\" class=\"dataframe\">\n",
       "  <thead>\n",
       "    <tr style=\"text-align: right;\">\n",
       "      <th></th>\n",
       "      <th>seconds</th>\n",
       "      <th>amp_read</th>\n",
       "      <th>vehicle</th>\n",
       "    </tr>\n",
       "  </thead>\n",
       "  <tbody>\n",
       "    <tr>\n",
       "      <th>0</th>\n",
       "      <td>1</td>\n",
       "      <td>0.00</td>\n",
       "      <td>-</td>\n",
       "    </tr>\n",
       "    <tr>\n",
       "      <th>1</th>\n",
       "      <td>2</td>\n",
       "      <td>-0.05</td>\n",
       "      <td>-</td>\n",
       "    </tr>\n",
       "    <tr>\n",
       "      <th>2</th>\n",
       "      <td>3</td>\n",
       "      <td>0.10</td>\n",
       "      <td>-</td>\n",
       "    </tr>\n",
       "    <tr>\n",
       "      <th>3</th>\n",
       "      <td>4</td>\n",
       "      <td>0.50</td>\n",
       "      <td>Motorbike</td>\n",
       "    </tr>\n",
       "    <tr>\n",
       "      <th>4</th>\n",
       "      <td>5</td>\n",
       "      <td>0.40</td>\n",
       "      <td>Motorbike</td>\n",
       "    </tr>\n",
       "  </tbody>\n",
       "</table>\n",
       "</div>"
      ],
      "text/plain": [
       "   seconds  amp_read    vehicle\n",
       "0        1      0.00          -\n",
       "1        2     -0.05          -\n",
       "2        3      0.10          -\n",
       "3        4      0.50  Motorbike\n",
       "4        5      0.40  Motorbike"
      ]
     },
     "execution_count": 16,
     "metadata": {},
     "output_type": "execute_result"
    }
   ],
   "source": [
    "seconds = pd.Series(range(1,18))\n",
    "\n",
    "amp_read = pd.Series([0.0,-0.05,0.1,0.5,0.4,0.0,1.5,1.55,\\\n",
    "                        1.29,1.62,-0.09,-0.01,5.5,5.66,4.58,0.3,0.2])\n",
    " \n",
    "vehicle = pd.Series(['-','-','-','Motorbike','Motorbike','-',\\\n",
    "                     'Bus','Bus','Bus','Bus','-','-','Car','Car','Car','-','-'])\n",
    " \n",
    "df = pd.concat([seconds,amp_rating,vehicle], axis=1)\n",
    "\n",
    "df.rename(columns={0:'seconds',1:'amp_read',2:'vehicle'}, inplace = True)\n",
    "\n",
    "df.head()"
   ]
  },
  {
   "cell_type": "markdown",
   "metadata": {},
   "source": [
    "## we are trying to find the upper and lower boundary by observing mean and standard deviation for vehicle types.\n",
    "### Then we calculate the -3 and +3 sigma levels and use this for predicting the accuracy, i.e 99%"
   ]
  },
  {
   "cell_type": "code",
   "execution_count": 12,
   "metadata": {},
   "outputs": [
    {
     "data": {
      "text/plain": [
       "(vehicle\n",
       " Bus          1.063620\n",
       " Car          3.498067\n",
       " Motorbike    0.237868\n",
       " Name: amp_read, dtype: float64, vehicle\n",
       " Bus          1.916380\n",
       " Car          6.995266\n",
       " Motorbike    0.662132\n",
       " Name: amp_read, dtype: float64)"
      ]
     },
     "execution_count": 12,
     "metadata": {},
     "output_type": "execute_result"
    }
   ],
   "source": [
    "mean = df[df['vehicle'] != '-'].groupby('vehicle')['amp_read'].mean()\n",
    "std = df[df['vehicle'] != '-'].groupby('vehicle')['amp_read'].std()\n",
    "sixsigma = mean - 3 * std, mean + 3 * std\n",
    "sixsigma"
   ]
  },
  {
   "cell_type": "markdown",
   "metadata": {},
   "source": [
    "## creating a new dataframe including the 3 sigma levels "
   ]
  },
  {
   "cell_type": "code",
   "execution_count": 15,
   "metadata": {},
   "outputs": [
    {
     "data": {
      "text/html": [
       "<div>\n",
       "<style>\n",
       "    .dataframe thead tr:only-child th {\n",
       "        text-align: right;\n",
       "    }\n",
       "\n",
       "    .dataframe thead th {\n",
       "        text-align: left;\n",
       "    }\n",
       "\n",
       "    .dataframe tbody tr th {\n",
       "        vertical-align: top;\n",
       "    }\n",
       "</style>\n",
       "<table border=\"1\" class=\"dataframe\">\n",
       "  <thead>\n",
       "    <tr style=\"text-align: right;\">\n",
       "      <th></th>\n",
       "      <th>count</th>\n",
       "      <th>mean</th>\n",
       "      <th>std</th>\n",
       "      <th>min</th>\n",
       "      <th>25%</th>\n",
       "      <th>50%</th>\n",
       "      <th>75%</th>\n",
       "      <th>max</th>\n",
       "      <th>-3 sigma</th>\n",
       "      <th>3 sigma</th>\n",
       "    </tr>\n",
       "    <tr>\n",
       "      <th>vehicle</th>\n",
       "      <th></th>\n",
       "      <th></th>\n",
       "      <th></th>\n",
       "      <th></th>\n",
       "      <th></th>\n",
       "      <th></th>\n",
       "      <th></th>\n",
       "      <th></th>\n",
       "      <th></th>\n",
       "      <th></th>\n",
       "    </tr>\n",
       "  </thead>\n",
       "  <tbody>\n",
       "    <tr>\n",
       "      <th>Bus</th>\n",
       "      <td>4.0</td>\n",
       "      <td>1.490000</td>\n",
       "      <td>0.142127</td>\n",
       "      <td>1.29</td>\n",
       "      <td>1.4475</td>\n",
       "      <td>1.525</td>\n",
       "      <td>1.5675</td>\n",
       "      <td>1.62</td>\n",
       "      <td>1.063620</td>\n",
       "      <td>1.916380</td>\n",
       "    </tr>\n",
       "    <tr>\n",
       "      <th>Car</th>\n",
       "      <td>3.0</td>\n",
       "      <td>5.246667</td>\n",
       "      <td>0.582866</td>\n",
       "      <td>4.58</td>\n",
       "      <td>5.0400</td>\n",
       "      <td>5.500</td>\n",
       "      <td>5.5800</td>\n",
       "      <td>5.66</td>\n",
       "      <td>3.498067</td>\n",
       "      <td>6.995266</td>\n",
       "    </tr>\n",
       "    <tr>\n",
       "      <th>Motorbike</th>\n",
       "      <td>2.0</td>\n",
       "      <td>0.450000</td>\n",
       "      <td>0.070711</td>\n",
       "      <td>0.40</td>\n",
       "      <td>0.4250</td>\n",
       "      <td>0.450</td>\n",
       "      <td>0.4750</td>\n",
       "      <td>0.50</td>\n",
       "      <td>0.237868</td>\n",
       "      <td>0.662132</td>\n",
       "    </tr>\n",
       "  </tbody>\n",
       "</table>\n",
       "</div>"
      ],
      "text/plain": [
       "           count      mean       std   min     25%    50%     75%   max  \\\n",
       "vehicle                                                                   \n",
       "Bus          4.0  1.490000  0.142127  1.29  1.4475  1.525  1.5675  1.62   \n",
       "Car          3.0  5.246667  0.582866  4.58  5.0400  5.500  5.5800  5.66   \n",
       "Motorbike    2.0  0.450000  0.070711  0.40  0.4250  0.450  0.4750  0.50   \n",
       "\n",
       "           -3 sigma   3 sigma  \n",
       "vehicle                        \n",
       "Bus        1.063620  1.916380  \n",
       "Car        3.498067  6.995266  \n",
       "Motorbike  0.237868  0.662132  "
      ]
     },
     "execution_count": 15,
     "metadata": {},
     "output_type": "execute_result"
    }
   ],
   "source": [
    "df1 = df[df['vehicle'] != '-'].groupby('vehicle').describe()['amp_read']\n",
    "\n",
    "df1['-3 sigma'] = df1['mean'] - 3*df1['std']\n",
    "df1['3 sigma'] = df1['mean'] + 3* df1['std']\n",
    "df1"
   ]
  },
  {
   "cell_type": "markdown",
   "metadata": {},
   "source": [
    "## From our new data frame we are considering the +3 and -3 sigma levels as our boundaries for classifying the vehicles"
   ]
  },
  {
   "cell_type": "code",
   "execution_count": 17,
   "metadata": {},
   "outputs": [
    {
     "data": {
      "text/plain": [
       "[0.23786796564403578, 0.66213203435596424]"
      ]
     },
     "execution_count": 17,
     "metadata": {},
     "output_type": "execute_result"
    }
   ],
   "source": [
    "bus_range = [df1.loc['Bus'][8],df1.loc['Bus'][9]]\n",
    "car_range = [df1.loc['Car'][8],df1.loc['Car'][9]]\n",
    "bike_range = [df1.loc['Motorbike'][8],df1.loc['Motorbike'][9]]\n",
    "bike_range"
   ]
  },
  {
   "cell_type": "markdown",
   "metadata": {},
   "source": [
    "# Assumptions\n",
    "- The data provided is the sample representation of our data\n",
    "- range of vehicles does not overlap into each other\n",
    "- we aim for the 6 sigma approach with an accuracy of 99%\n",
    "\n",
    "# Constraints\n",
    "- this works only for the classified data \n",
    "- no new vehicle model can be predicted \n",
    "- for a continuous data we this model may not work"
   ]
  },
  {
   "cell_type": "code",
   "execution_count": 28,
   "metadata": {
    "collapsed": true
   },
   "outputs": [],
   "source": [
    "def vehicle_prediction(unclassified):\n",
    "    \n",
    "    '''defined a function vehicle_prediction\n",
    "    for finding the category in which \n",
    "    the vehicle belongs '''\n",
    "    \n",
    "    if bike_range[0] <= unclassified['amp_read'] <= bike_range[1]:\n",
    "        return 'Motorbike'\n",
    "    elif car_range[0] <= unclassified['amp_read'] <= car_range[1]:\n",
    "        return 'Car'\n",
    "    elif bus_range[0] <= unclassified['amp_read'] <= bus_range[1]:\n",
    "        return 'Bus'\n",
    "    else:\n",
    "        return 'Noise or incorrect input values'"
   ]
  },
  {
   "cell_type": "code",
   "execution_count": 29,
   "metadata": {},
   "outputs": [
    {
     "data": {
      "text/plain": [
       "u'Motorbike'"
      ]
     },
     "execution_count": 29,
     "metadata": {},
     "output_type": "execute_result"
    }
   ],
   "source": [
    "unclassified =  {'second':11,'amp_read':0.4}\n",
    "\n",
    "vehicle_prediction(unclassified)"
   ]
  },
  {
   "cell_type": "markdown",
   "metadata": {},
   "source": [
    "# Creating a data resembling our sample and we build a machine learning model on it\n",
    "- creating the data considering the average length of bike-1.8m, car-4.5m, & bus-14m\n",
    "- given the speed of the vehicles is 15 kmph  i.e is 4.1666 m/s\n",
    "- let us assume the length of the metal strip is 0.1m and time taken for covering is negligible\n",
    "- so for bike time taken cover its distance is 1.8/4.166 = 0.432 seconds\n",
    "- so for car time taken cover its distance is 4.5/4.166 = 1.080 seconds\n",
    "- so for bike time taken cover its distance is 14/4.166 = 3.360 seconds\n",
    "- we calculated the average time taken for the vehicles to cover its own length\n",
    "- now we create a dataset accordingly\n",
    "# Occurences provide us choice of repetition for vehicles based the typical time taken for the vehicle to cross the metal strip\n",
    "- we select how many times the vehicles are to appeared every time while crossing the metal strip\n",
    "- defined a new dataframe accordingly"
   ]
  },
  {
   "cell_type": "code",
   "execution_count": 32,
   "metadata": {
    "collapsed": true
   },
   "outputs": [],
   "source": [
    "def occurences(selection):\n",
    "    if selection == 'Motorbike':\n",
    "           return np.random.choice([1, 2], p = [0.9, 0.1])\n",
    "    elif selection == 'Car':\n",
    "           return np.random.choice([2, 3, 4], p = [0.35, 0.6, 0.05])\n",
    "    elif selection == 'Bus':\n",
    "           return np.random.choice([3, 4, 5], p = [0.05, 0.9, 0.05])"
   ]
  },
  {
   "cell_type": "code",
   "execution_count": 47,
   "metadata": {
    "collapsed": true
   },
   "outputs": [],
   "source": [
    "def readings(vehicle_type):\n",
    "    repetition = occurences(vehicle_type)\n",
    "    vehicle_type_list = repetition*[vehicle_type]\n",
    "    if vehicle_type == 'Motorbike':\n",
    "        readings_list = list(np.random.normal(0.5, 0.2, repetition))\n",
    "    elif vehicle_type == 'Car':\n",
    "        readings_list = list(np.random.normal(5.5, 0.3, repetition))\n",
    "    elif vehicle_type == 'Bus':\n",
    "        readings_list = list(np.random.normal(3.5, 0.4, repetition))\n",
    "    sample = pd.DataFrame({'vehicle_type':vehicle_type_list,\n",
    "                         'amp_reading':readings_list})\n",
    "    return sample"
   ]
  },
  {
   "cell_type": "code",
   "execution_count": 48,
   "metadata": {
    "collapsed": true
   },
   "outputs": [],
   "source": [
    "new_df = pd.DataFrame({'vehicle_type': [], 'amp_reading': []})"
   ]
  },
  {
   "cell_type": "code",
   "execution_count": 49,
   "metadata": {},
   "outputs": [],
   "source": [
    "for count in range(1,301):\n",
    "    choice = np.random.choice(['Motorbike','Car','Bus'], p=[0.333,0.333,0.334])\n",
    "    if choice == 'Motorbike':\n",
    "        new_df = new_df.append(readings(choice))\n",
    "    elif choice == 'Car':\n",
    "        new_df = new_df.append(readings(choice))\n",
    "    elif choice == 'Bus':\n",
    "        new_df = new_df.append(readings(choice))"
   ]
  },
  {
   "cell_type": "code",
   "execution_count": 50,
   "metadata": {},
   "outputs": [],
   "source": [
    "new_df = new_df.reset_index(drop=True)"
   ]
  },
  {
   "cell_type": "code",
   "execution_count": 51,
   "metadata": {},
   "outputs": [
    {
     "data": {
      "text/html": [
       "<div>\n",
       "<style>\n",
       "    .dataframe thead tr:only-child th {\n",
       "        text-align: right;\n",
       "    }\n",
       "\n",
       "    .dataframe thead th {\n",
       "        text-align: left;\n",
       "    }\n",
       "\n",
       "    .dataframe tbody tr th {\n",
       "        vertical-align: top;\n",
       "    }\n",
       "</style>\n",
       "<table border=\"1\" class=\"dataframe\">\n",
       "  <thead>\n",
       "    <tr style=\"text-align: right;\">\n",
       "      <th></th>\n",
       "      <th>amp_reading</th>\n",
       "      <th>vehicle_type</th>\n",
       "    </tr>\n",
       "  </thead>\n",
       "  <tbody>\n",
       "    <tr>\n",
       "      <th>0</th>\n",
       "      <td>0.487826</td>\n",
       "      <td>Motorbike</td>\n",
       "    </tr>\n",
       "    <tr>\n",
       "      <th>1</th>\n",
       "      <td>0.672753</td>\n",
       "      <td>Motorbike</td>\n",
       "    </tr>\n",
       "    <tr>\n",
       "      <th>2</th>\n",
       "      <td>0.276923</td>\n",
       "      <td>Motorbike</td>\n",
       "    </tr>\n",
       "    <tr>\n",
       "      <th>3</th>\n",
       "      <td>5.418279</td>\n",
       "      <td>Car</td>\n",
       "    </tr>\n",
       "    <tr>\n",
       "      <th>4</th>\n",
       "      <td>6.115137</td>\n",
       "      <td>Car</td>\n",
       "    </tr>\n",
       "  </tbody>\n",
       "</table>\n",
       "</div>"
      ],
      "text/plain": [
       "   amp_reading vehicle_type\n",
       "0     0.487826    Motorbike\n",
       "1     0.672753    Motorbike\n",
       "2     0.276923    Motorbike\n",
       "3     5.418279          Car\n",
       "4     6.115137          Car"
      ]
     },
     "execution_count": 51,
     "metadata": {},
     "output_type": "execute_result"
    }
   ],
   "source": [
    "new_df.head()"
   ]
  },
  {
   "cell_type": "markdown",
   "metadata": {},
   "source": [
    "# ploting the data set we created and observing how well it is ditributed\n",
    "- distribution of vehicle type\n",
    "- distribution of ampere rating"
   ]
  },
  {
   "cell_type": "code",
   "execution_count": 52,
   "metadata": {},
   "outputs": [
    {
     "data": {
      "text/plain": [
       "<matplotlib.axes._subplots.AxesSubplot at 0x7fac6cee78d0>"
      ]
     },
     "execution_count": 52,
     "metadata": {},
     "output_type": "execute_result"
    },
    {
     "data": {
      "image/png": "[encoded data removed]",
      "text/plain": [
       "<matplotlib.figure.Figure at 0x7fac6ce89ed0>"
      ]
     },
     "metadata": {},
     "output_type": "display_data"
    }
   ],
   "source": [
    "new_df['amp_reading'].hist(bins=20)"
   ]
  },
  {
   "cell_type": "code",
   "execution_count": 53,
   "metadata": {},
   "outputs": [
    {
     "data": {
      "text/plain": [
       "<matplotlib.axes._subplots.AxesSubplot at 0x7fac6cee79d0>"
      ]
     },
     "execution_count": 53,
     "metadata": {},
     "output_type": "execute_result"
    },
    {
     "data": {
      "image/png": "[encoded data removed]",
      "text/plain": [
       "<matplotlib.figure.Figure at 0x7fac6ce89f50>"
      ]
     },
     "metadata": {},
     "output_type": "display_data"
    }
   ],
   "source": [
    "\n",
    "new_df.groupby('vehicle_type').size().plot(kind='bar')"
   ]
  },
  {
   "cell_type": "code",
   "execution_count": 54,
   "metadata": {},
   "outputs": [
    {
     "data": {
      "text/plain": [
       "<matplotlib.axes._subplots.AxesSubplot at 0x7fac6cce5d50>"
      ]
     },
     "execution_count": 54,
     "metadata": {},
     "output_type": "execute_result"
    },
    {
     "data": {
      "image/png": "[encoded data removed]",
      "text/plain": [
       "<matplotlib.figure.Figure at 0x7fac6cc2f710>"
      ]
     },
     "metadata": {},
     "output_type": "display_data"
    }
   ],
   "source": [
    "new_df.boxplot(column='amp_reading')"
   ]
  },
  {
   "cell_type": "markdown",
   "metadata": {},
   "source": [
    "# Creating new features\n",
    "- created polynomial features x^2, x^3\n",
    "- captured moving average of 3 ampere readings as bike has atleast 2 consecutive occurences and this will gives the jump in the average as a vehicle has changed\n",
    "- now this average has been assigned even at the ampere readings are zero or negative values to counter this created a new feature ampere variation where in this problem is solved\n",
    "- defined our train and target and splited it in the model for prediction\n",
    "- we predicted the vehicle type and checked for the accuracy score"
   ]
  },
  {
   "cell_type": "code",
   "execution_count": 63,
   "metadata": {},
   "outputs": [],
   "source": [
    "new_df['amp_square'] = new_df['amp_reading']**2\n",
    "new_df['amp_cube'] = new_df['amp_reading']**3\n",
    "\n",
    "\n",
    "s = new_df['amp_reading']\n",
    "indices = pd.Series(range(new_df['amp_reading'].shape[0]))\n",
    "new_df['amp_avg_3'] = indices[2:].apply(lambda x: (s[x]+s[x-1]+s[x-2]) / 3 )\n",
    "\n",
    "\n",
    "# as the first 2 variables will be zero we replace with zero\n",
    "new_df.amp_avg_3.replace(np.NaN, 0, inplace=True)\n",
    "\n",
    "new_df['amp_variation'] = new_df['amp_avg_3'] * new_df['amp_reading']\n",
    "\n",
    "new_df.amp_variation.replace(np.NaN, 0, inplace=True)"
   ]
  },
  {
   "cell_type": "code",
   "execution_count": 68,
   "metadata": {},
   "outputs": [],
   "source": [
    "X = new_df[['amp_reading','amp_avg_3','amp_square','amp_cube','amp_variation']]\n",
    "y = new_df['vehicle_type']"
   ]
  },
  {
   "cell_type": "code",
   "execution_count": 69,
   "metadata": {
    "collapsed": true
   },
   "outputs": [],
   "source": [
    "X_train, X_test, y_train, y_test = train_test_split(X, y, test_size=0.2, random_state=10)"
   ]
  },
  {
   "cell_type": "code",
   "execution_count": 70,
   "metadata": {},
   "outputs": [
    {
     "name": "stderr",
     "output_type": "stream",
     "text": [
      "/home/kakarot/anaconda2/envs/py27/lib/python2.7/site-packages/sklearn/ensemble/forest.py:439: UserWarning: Some inputs do not have OOB scores. This probably means too few trees were used to compute any reliable oob estimates.\n",
      "  warn(\"Some inputs do not have OOB scores. \"\n",
      "/home/kakarot/anaconda2/envs/py27/lib/python2.7/site-packages/sklearn/ensemble/forest.py:444: RuntimeWarning: invalid value encountered in true_divide\n",
      "  predictions[k].sum(axis=1)[:, np.newaxis])\n"
     ]
    },
    {
     "data": {
      "text/plain": [
       "RandomForestClassifier(bootstrap=True, class_weight=None, criterion='gini',\n",
       "            max_depth=None, max_features='auto', max_leaf_nodes=None,\n",
       "            min_impurity_split=1e-07, min_samples_leaf=1,\n",
       "            min_samples_split=2, min_weight_fraction_leaf=0.0,\n",
       "            n_estimators=10, n_jobs=1, oob_score=True, random_state=0,\n",
       "            verbose=0, warm_start=False)"
      ]
     },
     "execution_count": 70,
     "metadata": {},
     "output_type": "execute_result"
    }
   ],
   "source": [
    "clf = RandomForestClassifier(oob_score=True, random_state=0)\n",
    "clf.fit(X_train, y_train)"
   ]
  },
  {
   "cell_type": "code",
   "execution_count": 76,
   "metadata": {},
   "outputs": [
    {
     "data": {
      "text/plain": [
       "array([u'Car', u'Bus', u'Motorbike', u'Motorbike', u'Bus', u'Bus', u'Car',\n",
       "       u'Bus', u'Bus', u'Car', u'Car', u'Bus', u'Bus', u'Car', u'Car',\n",
       "       u'Car', u'Car', u'Bus', u'Bus', u'Car', u'Bus', u'Car', u'Car',\n",
       "       u'Bus', u'Car', u'Bus', u'Bus', u'Bus', u'Bus', u'Motorbike',\n",
       "       u'Bus', u'Bus', u'Bus', u'Bus', u'Bus', u'Motorbike', u'Bus',\n",
       "       u'Bus', u'Car', u'Car', u'Bus', u'Bus', u'Car', u'Bus', u'Bus',\n",
       "       u'Bus', u'Bus', u'Bus', u'Bus', u'Motorbike', u'Car', u'Bus',\n",
       "       u'Bus', u'Bus', u'Bus', u'Bus', u'Bus', u'Car', u'Motorbike',\n",
       "       u'Car', u'Motorbike', u'Car', u'Bus', u'Motorbike', u'Bus', u'Car',\n",
       "       u'Car', u'Bus', u'Bus', u'Car', u'Car', u'Car', u'Bus',\n",
       "       u'Motorbike', u'Car', u'Car', u'Bus', u'Motorbike', u'Car', u'Car',\n",
       "       u'Bus', u'Car', u'Bus', u'Car', u'Car', u'Car', u'Bus', u'Bus',\n",
       "       u'Bus', u'Bus', u'Bus', u'Bus', u'Motorbike', u'Bus', u'Bus',\n",
       "       u'Bus', u'Bus', u'Bus', u'Car', u'Bus', u'Car', u'Bus', u'Car',\n",
       "       u'Motorbike', u'Bus', u'Car', u'Bus', u'Motorbike', u'Bus', u'Bus',\n",
       "       u'Bus', u'Bus', u'Car', u'Motorbike', u'Motorbike', u'Bus',\n",
       "       u'Motorbike', u'Bus', u'Motorbike', u'Bus', u'Bus', u'Car', u'Bus',\n",
       "       u'Motorbike', u'Bus', u'Motorbike', u'Bus', u'Bus', u'Bus', u'Bus',\n",
       "       u'Bus', u'Car', u'Car', u'Bus', u'Bus', u'Car', u'Car', u'Bus',\n",
       "       u'Bus', u'Car', u'Car', u'Bus', u'Car', u'Bus', u'Bus',\n",
       "       u'Motorbike', u'Car', u'Bus', u'Bus', u'Bus', u'Car', u'Car',\n",
       "       u'Motorbike', u'Car', u'Bus', u'Bus', u'Bus', u'Bus', u'Bus', u'Bus'], dtype=object)"
      ]
     },
     "execution_count": 76,
     "metadata": {},
     "output_type": "execute_result"
    }
   ],
   "source": [
    "predict = clf.predict(X_test)\n",
    "predict"
   ]
  },
  {
   "cell_type": "code",
   "execution_count": 77,
   "metadata": {},
   "outputs": [
    {
     "data": {
      "text/plain": [
       "1.0"
      ]
     },
     "execution_count": 77,
     "metadata": {},
     "output_type": "execute_result"
    }
   ],
   "source": [
    "accuracy_score(y_test,predictions)"
   ]
  },
  {
   "cell_type": "markdown",
   "metadata": {},
   "source": [
    "# Q 3.3\n",
    "- here there are multiple detectors of length 1 feet\n",
    "- typical width of bike is <= 1 feet, and of bus and car is >= 3 feet\n",
    "\n",
    "# we create new features based on the given information\n",
    "## creating the data considering the average length of bike-1.8m, car-4.5m, & bus-14m given the speed of the vehicles is 15 kmph i.e is 4.1666 m/s\n",
    "\n",
    "## for bike\n",
    "- if a bike passes through a detector we consider the number of consective readings typically a bike take \n",
    "\n",
    "- i.e for bike time taken cover its distance is 1.8/4.166 = 0.432 seconds\n",
    "- and we get reading from a single detector as width is < 1 feet\n",
    "\n",
    "- occurences: 1(as max time is 0.432 sec less than a second), \n",
    "- no. of detector readings simultaneously recorded : 1 (width is < 1 feet)\n",
    "\n",
    "## for bus\n",
    "- if a bus passes through a detector we consider the number of consective readings typically a bus take \n",
    "\n",
    "- time taken for bus to cover its distance is 14/4.166 = 3.360 seconds\n",
    "* And we get reading from a atleast three detectors as width is >= 3 feet\n",
    "\n",
    "- occurences: 4 (as max time is 3.360 seconds), \n",
    "- no. of detector readings simultaneously recorded: >= 3 (width is >= 3 feet )\n",
    "\n",
    "## for car\n",
    "- if a car passes through a detector we consider the number of consective readings typically a car take \n",
    "\n",
    "- time taken by a car to typically cover its distance is 4.5/4.166 = 1.080 seconds\n",
    "* And we get reading from a atleast three detectors as width is >= 3 feet\n",
    "\n",
    "- occurences: 2 (as max time is 1.08 seconds), \n",
    "- no. of detector readings simultaneously recorded: >= 3 (width is >= 3 feet )\n",
    "\n",
    "### this classifies the differences between a car bike and bus with multiple detectors"
   ]
  },
  {
   "cell_type": "markdown",
   "metadata": {
    "collapsed": true
   },
   "source": [
    "# Q 3.4\n",
    "- given vehicle speed is 60 kmph\n",
    "- and thousands of vehicle are passing on the highway\n",
    "\n",
    "#### we cannot use our previous model because the we build the features based on the time taken for covering the distance by the vehicle itself\n",
    "#### time take by every vehicle to cross the detector will be same\n",
    "#### we use average length of bike-1.8m, car-4.5m, & bus-14m given the speed of the vehicles is 60 kmph i.e is 16.66 m/s\n",
    "\n",
    "- let us calculate the time for the vehicles to cover the distance\n",
    "- for bike 1.8/16.66 = 0.108 second\n",
    "- for car 4.5/16.66 = 0.270 second\n",
    "- for bus 14/16.66 = 0.840 second\n",
    "\n",
    "#### so every vehicle is taking only less than a second to cross and only we can refer to is the number of detectors recording as the width of the vehicles are different \n",
    "#### but again we cannot differentiate between a bus and car \n",
    "### final thoughts are the model may not predict accurately as it did in previous case"
   ]
  },
  {
   "cell_type": "code",
   "execution_count": null,
   "metadata": {
    "collapsed": true
   },
   "outputs": [],
   "source": []
  },
  {
   "cell_type": "code",
   "execution_count": 61,
   "metadata": {
    "collapsed": true
   },
   "outputs": [],
   "source": []
  },
  {
   "cell_type": "code",
   "execution_count": null,
   "metadata": {
    "collapsed": true
   },
   "outputs": [],
   "source": []
  },
  {
   "cell_type": "code",
   "execution_count": 62,
   "metadata": {
    "collapsed": true
   },
   "outputs": [],
   "source": []
  },
  {
   "cell_type": "code",
   "execution_count": 85,
   "metadata": {
    "collapsed": true
   },
   "outputs": [],
   "source": []
  },
  {
   "cell_type": "code",
   "execution_count": 86,
   "metadata": {
    "collapsed": true
   },
   "outputs": [],
   "source": []
  },
  {
   "cell_type": "code",
   "execution_count": null,
   "metadata": {},
   "outputs": [],
   "source": []
  },
  {
   "cell_type": "code",
   "execution_count": null,
   "metadata": {},
   "outputs": [],
   "source": []
  },
  {
   "cell_type": "code",
   "execution_count": null,
   "metadata": {},
   "outputs": [],
   "source": []
  },
  {
   "cell_type": "code",
   "execution_count": 93,
   "metadata": {
    "collapsed": true
   },
   "outputs": [],
   "source": []
  },
  {
   "cell_type": "code",
   "execution_count": null,
   "metadata": {
    "collapsed": true
   },
   "outputs": [],
   "source": []
  },
  {
   "cell_type": "code",
   "execution_count": null,
   "metadata": {
    "collapsed": true
   },
   "outputs": [],
   "source": []
  }
 ],
 "metadata": {
  "kernelspec": {
   "display_name": "Python 2",
   "language": "python",
   "name": "python2"
  },
  "language_info": {
   "codemirror_mode": {
    "name": "ipython",
    "version": 2
   },
   "file_extension": ".py",
   "mimetype": "text/x-python",
   "name": "python",
   "nbconvert_exporter": "python",
   "pygments_lexer": "ipython2",
   "version": "2.7.13"
  }
 },
 "nbformat": 4,
 "nbformat_minor": 2
}
